{
 "cells": [
  {
   "cell_type": "code",
   "execution_count": null,
   "id": "d7566601",
   "metadata": {},
   "outputs": [],
   "source": [
    "import azureml.core"
   ]
  },
  {
   "cell_type": "code",
   "execution_count": null,
   "id": "e7823f68",
   "metadata": {},
   "outputs": [],
   "source": [
    "from azureml.core import Workspace"
   ]
  },
  {
   "cell_type": "code",
   "execution_count": null,
   "id": "5e2d4812",
   "metadata": {},
   "outputs": [],
   "source": []
  },
  {
   "cell_type": "code",
   "execution_count": null,
   "id": "b669a0db",
   "metadata": {},
   "outputs": [],
   "source": [
    "## Create workspace"
   ]
  },
  {
   "cell_type": "code",
   "execution_count": null,
   "id": "ea7476f0",
   "metadata": {},
   "outputs": [],
   "source": [
    "ws = Workspace.create(name='Azureml_SDK-WS01',\n",
    "              subscription_id='your_subs_id',\n",
    "              resource_group='azuremlsdk01',\n",
    "              create_resource_group=True,\n",
    "              location='eastus2'\n",
    "             )"
   ]
  },
  {
   "cell_type": "code",
   "execution_count": null,
   "id": "24abbf1b",
   "metadata": {},
   "outputs": [],
   "source": []
  },
  {
   "cell_type": "code",
   "execution_count": null,
   "id": "c884f032",
   "metadata": {},
   "outputs": [],
   "source": [
    "## Write config file"
   ]
  },
  {
   "cell_type": "code",
   "execution_count": null,
   "id": "5bfe6c5b",
   "metadata": {},
   "outputs": [],
   "source": [
    "ws.write_config(path='./')"
   ]
  },
  {
   "cell_type": "code",
   "execution_count": null,
   "id": "38b930a5",
   "metadata": {},
   "outputs": [],
   "source": [
    "# \"C:\\Users\\bhaiyasingh\\Azure ML\\.azureml\""
   ]
  },
  {
   "cell_type": "code",
   "execution_count": null,
   "id": "6ef4b861",
   "metadata": {},
   "outputs": [],
   "source": []
  },
  {
   "cell_type": "code",
   "execution_count": null,
   "id": "7b5a4585",
   "metadata": {},
   "outputs": [],
   "source": [
    "## access the workspace from config.json"
   ]
  },
  {
   "cell_type": "code",
   "execution_count": null,
   "id": "eefcc804",
   "metadata": {},
   "outputs": [],
   "source": [
    "ws = Workspace.from_config(path=\".\")"
   ]
  },
  {
   "cell_type": "code",
   "execution_count": null,
   "id": "19aafb56",
   "metadata": {},
   "outputs": [],
   "source": []
  },
  {
   "cell_type": "code",
   "execution_count": null,
   "id": "776e921d",
   "metadata": {},
   "outputs": [],
   "source": [
    "## Register Datastore"
   ]
  },
  {
   "cell_type": "code",
   "execution_count": null,
   "id": "ea05db9e",
   "metadata": {},
   "outputs": [],
   "source": [
    "from azureml.core import Datastore"
   ]
  },
  {
   "cell_type": "markdown",
   "id": "17d68488",
   "metadata": {},
   "source": [
    "'''Examples of supported Azure storage services that can be registered as datastores are:\n",
    "\n",
    "* Azure Blob Container\n",
    "* Azure File Share\n",
    "* Azure Data Lake\n",
    "* Azure Data Lake Gen2\n",
    "* Azure SQL Database\n",
    "* Azure Database for PostgreSQL\n",
    "* Databricks File System\n",
    "* Azure Database for MySQL'''"
   ]
  },
  {
   "cell_type": "code",
   "execution_count": null,
   "id": "37cf6130",
   "metadata": {},
   "outputs": [],
   "source": [
    "az_store = Datastore.register_azure_blob_container(workspace=ws,\n",
    "                                                  datastore_name=\"azure_sdk_blob_01\",\n",
    "                                                  container_name=\"loandata\",\n",
    "                                                  account_name=\"azurestbolb01\",\n",
    "                                                  account_key=\"account-key\")\n",
    "                                              \n",
    "                                                   "
   ]
  },
  {
   "cell_type": "code",
   "execution_count": null,
   "id": "6272aa15",
   "metadata": {},
   "outputs": [],
   "source": []
  },
  {
   "cell_type": "code",
   "execution_count": null,
   "id": "e5449387",
   "metadata": {},
   "outputs": [],
   "source": [
    "## acess datastore"
   ]
  },
  {
   "cell_type": "code",
   "execution_count": null,
   "id": "5c638fa3",
   "metadata": {},
   "outputs": [],
   "source": [
    "az_store = Datastore.get(ws, \"azure_sdk_blob_01\")"
   ]
  },
  {
   "cell_type": "code",
   "execution_count": null,
   "id": "d79f7ec4",
   "metadata": {},
   "outputs": [],
   "source": []
  },
  {
   "cell_type": "code",
   "execution_count": null,
   "id": "899438aa",
   "metadata": {},
   "outputs": [],
   "source": [
    "# create the path of csv file"
   ]
  },
  {
   "cell_type": "code",
   "execution_count": null,
   "id": "e4128815",
   "metadata": {},
   "outputs": [],
   "source": [
    "csv_path = [(az_store, \"Loan_data.csv\")]"
   ]
  },
  {
   "cell_type": "code",
   "execution_count": null,
   "id": "bd91dbeb",
   "metadata": {},
   "outputs": [],
   "source": [
    "csv_path"
   ]
  },
  {
   "cell_type": "code",
   "execution_count": null,
   "id": "a2e4297c",
   "metadata": {},
   "outputs": [],
   "source": []
  },
  {
   "cell_type": "code",
   "execution_count": null,
   "id": "4b0a907a",
   "metadata": {},
   "outputs": [],
   "source": [
    "## create dataset"
   ]
  },
  {
   "cell_type": "code",
   "execution_count": null,
   "id": "21d1e212",
   "metadata": {},
   "outputs": [],
   "source": [
    "from azureml.core import Dataset"
   ]
  },
  {
   "cell_type": "code",
   "execution_count": null,
   "id": "0356b871",
   "metadata": {},
   "outputs": [],
   "source": [
    "loan_dataset = Dataset.Tabular.from_delimited_files(path=csv_path)"
   ]
  },
  {
   "cell_type": "code",
   "execution_count": null,
   "id": "f678f214",
   "metadata": {},
   "outputs": [],
   "source": [
    "# for error\n",
    "# !pip install azureml-dataset-runtime --upgrade --user\n",
    "# pip install --upgrade pip --user"
   ]
  },
  {
   "cell_type": "code",
   "execution_count": null,
   "id": "c46fdb96",
   "metadata": {},
   "outputs": [],
   "source": [
    "loan_dataset"
   ]
  },
  {
   "cell_type": "code",
   "execution_count": null,
   "id": "118829ac",
   "metadata": {},
   "outputs": [],
   "source": []
  },
  {
   "cell_type": "code",
   "execution_count": null,
   "id": "faedb90b",
   "metadata": {},
   "outputs": [],
   "source": [
    "# register dataset"
   ]
  },
  {
   "cell_type": "code",
   "execution_count": null,
   "id": "d2b22741",
   "metadata": {},
   "outputs": [],
   "source": [
    "loan_dataset = loan_dataset.register(workspace=ws,\n",
    "                                    name=\"Loan Data SDK\",\n",
    "                                    create_new_version=True)"
   ]
  },
  {
   "cell_type": "code",
   "execution_count": null,
   "id": "7d7d5f12",
   "metadata": {},
   "outputs": [],
   "source": [
    "loan_dataset"
   ]
  },
  {
   "cell_type": "code",
   "execution_count": null,
   "id": "9b23775c",
   "metadata": {},
   "outputs": [],
   "source": []
  },
  {
   "cell_type": "code",
   "execution_count": null,
   "id": "238b3964",
   "metadata": {},
   "outputs": [],
   "source": [
    "# list all the workspace within a subscription"
   ]
  },
  {
   "cell_type": "code",
   "execution_count": null,
   "id": "c9e411c1",
   "metadata": {},
   "outputs": [],
   "source": [
    "ws_list = Workspace.list(subscription_id=\"your_sub_id\")"
   ]
  },
  {
   "cell_type": "code",
   "execution_count": null,
   "id": "344528fe",
   "metadata": {},
   "outputs": [],
   "source": [
    "ws_list"
   ]
  },
  {
   "cell_type": "code",
   "execution_count": null,
   "id": "cee4e8dd",
   "metadata": {},
   "outputs": [],
   "source": []
  },
  {
   "cell_type": "code",
   "execution_count": null,
   "id": "cd6dedd6",
   "metadata": {},
   "outputs": [],
   "source": [
    "# access the default datastore from worspace"
   ]
  },
  {
   "cell_type": "code",
   "execution_count": null,
   "id": "73527f5a",
   "metadata": {},
   "outputs": [],
   "source": [
    "az_default_store = ws.get_default_datastore()"
   ]
  },
  {
   "cell_type": "code",
   "execution_count": null,
   "id": "633aa189",
   "metadata": {},
   "outputs": [],
   "source": [
    "az_default_store"
   ]
  },
  {
   "cell_type": "code",
   "execution_count": null,
   "id": "360c71d4",
   "metadata": {},
   "outputs": [],
   "source": []
  },
  {
   "cell_type": "code",
   "execution_count": null,
   "id": "b20dae09",
   "metadata": {},
   "outputs": [],
   "source": [
    "# list all the datastore"
   ]
  },
  {
   "cell_type": "code",
   "execution_count": null,
   "id": "621f2fda",
   "metadata": {},
   "outputs": [],
   "source": [
    "store_list = list(ws.datastores)"
   ]
  },
  {
   "cell_type": "code",
   "execution_count": null,
   "id": "7c943a29",
   "metadata": {},
   "outputs": [],
   "source": [
    "store_list"
   ]
  },
  {
   "cell_type": "code",
   "execution_count": null,
   "id": "b9d7e733",
   "metadata": {},
   "outputs": [],
   "source": []
  },
  {
   "cell_type": "code",
   "execution_count": null,
   "id": "54532c7e",
   "metadata": {},
   "outputs": [],
   "source": [
    "# get the datasets from the workspace"
   ]
  },
  {
   "cell_type": "code",
   "execution_count": null,
   "id": "e5762891",
   "metadata": {},
   "outputs": [],
   "source": [
    "az_dataset = Dataset.get_by_name(ws, \"Loan Data SDK\")"
   ]
  },
  {
   "cell_type": "code",
   "execution_count": null,
   "id": "b7e30cb6",
   "metadata": {},
   "outputs": [],
   "source": [
    "az_dataset"
   ]
  },
  {
   "cell_type": "code",
   "execution_count": null,
   "id": "48e834d8",
   "metadata": {},
   "outputs": [],
   "source": []
  },
  {
   "cell_type": "code",
   "execution_count": null,
   "id": "14814f38",
   "metadata": {},
   "outputs": [],
   "source": [
    "# list datasets from the workspace "
   ]
  },
  {
   "cell_type": "code",
   "execution_count": null,
   "id": "baf69689",
   "metadata": {},
   "outputs": [],
   "source": [
    "ds_list = list(ws.datasets.keys())"
   ]
  },
  {
   "cell_type": "code",
   "execution_count": null,
   "id": "fdb018dd",
   "metadata": {},
   "outputs": [],
   "source": [
    "for items in ds_list:\n",
    "    print(items)"
   ]
  },
  {
   "cell_type": "code",
   "execution_count": null,
   "id": "106144f7",
   "metadata": {},
   "outputs": [],
   "source": []
  },
  {
   "cell_type": "code",
   "execution_count": null,
   "id": "db608d25",
   "metadata": {},
   "outputs": [],
   "source": [
    "# load the azure data in dataframe"
   ]
  },
  {
   "cell_type": "code",
   "execution_count": null,
   "id": "e5901423",
   "metadata": {},
   "outputs": [],
   "source": [
    "df = az_dataset.to_pandas_dataframe()"
   ]
  },
  {
   "cell_type": "code",
   "execution_count": null,
   "id": "5b133efe",
   "metadata": {},
   "outputs": [],
   "source": [
    "# az_dataset.to_csv_files, az_dataset.to_dask_dataframe, az_dataset.to_pandas_dataframe, \n",
    "# az_dataset.to_parquet_files, az_dataset.to_spark_dataframe"
   ]
  },
  {
   "cell_type": "code",
   "execution_count": null,
   "id": "1bf299c0",
   "metadata": {},
   "outputs": [],
   "source": [
    "df"
   ]
  },
  {
   "cell_type": "code",
   "execution_count": null,
   "id": "74591338",
   "metadata": {},
   "outputs": [],
   "source": []
  },
  {
   "cell_type": "code",
   "execution_count": null,
   "id": "f7c8e8cd",
   "metadata": {},
   "outputs": [],
   "source": [
    "# upload the dataframe to the azureml dataset"
   ]
  },
  {
   "cell_type": "code",
   "execution_count": null,
   "id": "4fcf6160",
   "metadata": {},
   "outputs": [],
   "source": [
    "df_sub = df[['Loan_ID','Gender','Loan_Status']]"
   ]
  },
  {
   "cell_type": "code",
   "execution_count": null,
   "id": "2d69a9c2",
   "metadata": {},
   "outputs": [],
   "source": [
    "az_ds_from_df = Dataset.Tabular.register_pandas_dataframe(dataframe=df_sub,\n",
    "                                                         target=az_store,\n",
    "                                                         name=\"Loan Sub Data SDK\")"
   ]
  },
  {
   "cell_type": "code",
   "execution_count": null,
   "id": "59935057",
   "metadata": {},
   "outputs": [],
   "source": []
  },
  {
   "cell_type": "code",
   "execution_count": null,
   "id": "f5eeb4c6",
   "metadata": {},
   "outputs": [],
   "source": []
  },
  {
   "cell_type": "code",
   "execution_count": null,
   "id": "d66fc9b4",
   "metadata": {},
   "outputs": [],
   "source": [
    "# upload local file to the storage account usinf datastore"
   ]
  },
  {
   "cell_type": "code",
   "execution_count": null,
   "id": "77b39735",
   "metadata": {},
   "outputs": [],
   "source": [
    "files_list = ['D:\\Data_sets\\Advertising.csv', 'D:\\Data_sets\\country_code.csv']"
   ]
  },
  {
   "cell_type": "code",
   "execution_count": null,
   "id": "cfebcb81",
   "metadata": {},
   "outputs": [],
   "source": [
    "az_store.upload_files(files=files_list)"
   ]
  },
  {
   "cell_type": "code",
   "execution_count": null,
   "id": "ee1ca327",
   "metadata": {},
   "outputs": [],
   "source": []
  },
  {
   "cell_type": "code",
   "execution_count": null,
   "id": "160ce9cd",
   "metadata": {},
   "outputs": [],
   "source": [
    "# upload folder or directory "
   ]
  },
  {
   "cell_type": "code",
   "execution_count": null,
   "id": "cd39e747",
   "metadata": {},
   "outputs": [],
   "source": [
    "az_store.upload(src_dir=\"D:/Data_sets/anomaly\")"
   ]
  },
  {
   "cell_type": "code",
   "execution_count": null,
   "id": "e46c67c3",
   "metadata": {},
   "outputs": [],
   "source": [
    "az_store.upload(src_dir=\"D:/Data_sets/anomaly\",\n",
    "               target_path=\"/anomaly\")"
   ]
  },
  {
   "cell_type": "code",
   "execution_count": null,
   "id": "6e44d4a7",
   "metadata": {},
   "outputs": [],
   "source": []
  }
 ],
 "metadata": {
  "kernelspec": {
   "display_name": "Python 3 (ipykernel)",
   "language": "python",
   "name": "python3"
  },
  "language_info": {
   "codemirror_mode": {
    "name": "ipython",
    "version": 3
   },
   "file_extension": ".py",
   "mimetype": "text/x-python",
   "name": "python",
   "nbconvert_exporter": "python",
   "pygments_lexer": "ipython3",
   "version": "3.8.8"
  }
 },
 "nbformat": 4,
 "nbformat_minor": 5
}
